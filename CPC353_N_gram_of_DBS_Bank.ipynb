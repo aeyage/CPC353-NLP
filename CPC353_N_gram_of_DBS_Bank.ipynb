{
  "nbformat": 4,
  "nbformat_minor": 0,
  "metadata": {
    "colab": {
      "provenance": []
    },
    "kernelspec": {
      "name": "python3",
      "display_name": "Python 3"
    },
    "language_info": {
      "name": "python"
    }
  },
  "cells": [
    {
      "cell_type": "markdown",
      "source": [
        "# Text and Sentiment Analysis of DBS Bank Ltd. Banking Performance Using N-gram\n",
        "\n",
        "![dbs.png](data:image/png;base64,iVBORw0KGgoAAAANSUhEUgAAASwAAACCCAMAAADLwgVtAAADAFBMVEUAAAAAAAALAQEfBAUaAwQEAAAOAQIBAQEmBAWRERbTGSDkGyLKGB6OERU1BggHAQFWCg2qFBnYGSHFFx5xDRFjDA/oGyP/Hif1HSXzHCX3HSXxHCSiExk5BghcCw77Hib9Hib4HSYrBQbsGyPtHCTwHCSvFBpPCQwXAgNtDRDuHCT+HibcGiEiBAUwBQc+Bwm4FRwGBgYTExMfHx8wMDA8PDxKSkpJSUk3NzcyMjIoKCgbGxsLCwugExh9DhPCFx1FRUWPj4+CgoJ7e3t9fX1ubm5eXl4YGBiOjo5zc3NjY2NRUVE/Pz8KCgoEBARaWlqTk5Ozs7PS0tLr6+v4+Pj+///////7+/v39/fo6OjZ2dnJycmxsbGdnZ1WVlY6OjotLS0TAgPgGiJICAvvHCS6urqhoaFwcHAICAhqamq3t7f29vbh4eG8vLyKiopNTU0WFhZCQkKQkJDV1dXMzMyYmJhmZmYdHR0jIyPz8/OEhIS7Fhy+Fh2vr68mJia/v7/m5uaampoRERH8/Pzy8vJ2dnb6HSakpKTOzs7g4OD5+fns7OyHh4dra2u2trbHx8dhYWF/f3/qGyOyFRtTU1MPDw9QUFB1dXXBwcHd3d3k5OStra15eXnaGiGFDxSeExhnDA9HR0cNDQ39/f2jo6PY2NjPz88lJSWMjIxoaGjw8PCmExntHSXtFx/tGSHDw8PuNj3sIyvsFBztERntMTntKzOoqKjuPUTyiY3sKC/sChPuSlHxf4PsHyfNGB/19fWrq6vtDxfuVVv0ubvsDBXsCBHwZWsaGhrxc3j66OntRkzrDBX55OXrDxghISHtGyPykZTvXGLtExzymJx3DhL0rK/xen71s7b2xMbzm573ztDxg4iZERfu7u753t/0oaTi4uKioqLuQkj88PH41NXtOUDrChPvbXL89fX3wcP9///52dra2tr9+Pj0qKv77O32vb80NDQQAgLvYmfuT1WSERb0lZmVlZXxtLb1yMrrfIH54OLuq674yMneGiG1FRvhcApuAAAAAXRSTlPDQotLbAAAEXJJREFUeAHs0AMBBFEAQMG1bfv3j3hIcOa+iTDSDSDjamSRRRZZZJGFd2aRRRbIIossssgiC2SRRRZZZJGlqJou38RQNXOXWZbtuK7nB/K1wihOXDfNlP1l5UVZ1XVTtl1/XdWQjlNV13PpLXvLyqdq3c7Ekdx60I4kiAIwfG5sJ4NOtqfPVGzbtm9s27Zta737mouwa6Y6PFh8D9D4iyqFi+uTq9HN3YwXPMg1Ty/v/yuWD7lt9TsXL9jaGYE0fV9zL9V1qmtqmZ8+/IX8AwKDgkNCQ8PCIyIDogyfHytapiYPPASZg7U9e3XpOMXEKjzlRMRD5QoscfEJiU9JSk4JCUuFxyWnJSQ+KSk9IzMrIhueIycoNy+/oLCoGK+VlJaVV1RWJVbX3H1JbYR0rLp6OaEpeJVDrLm9k26dJdww1HEzarBzNOE8hUZCk0WzYzXh8xQWNLeEtYKktnZ8po7Oru6e3idK9fUPlEh9yeDQcNDIaMbYuHQsi0ZnooUTPHmFg4nZxDW/STMvtVzGyxuJFiFWH5gipvDZBvKyDEHK9Aw+3+xcDUiaTy5AWklHR+kCiiyWIC5Jx3LinAmLRyMnVwrXlgW5wrmRMCnN9IHNsBJphf3p6elL3d1VK02ra+tIG2yRnBTznUjb2MzITfktdyuxeXAMadthEt8zXI4i6zvdu1kRkZGRtVkpe5VreOfRWEb7HHkD/gCkBC6iWPEhPDiqPd6c6aAnRfcIsJ0gbRjERodPkbK+Z8iaoE0ocpYYAWJHfXnneEtiGeq76VnChEDewNMdDPTqgCmfng/zoGE0eQfFztP9gSVoHSnhoOG4ACkXraCpp1CcM2EetPReluG1flYsb3Ozqyuz9x+U5PUaHWIcTbxs/D5agrZ4FDvLYSyNT9soVpEFDNnnSNFeZ5+bkZKv+a7qL+IvCQamka/4Wxoj1jtTmSCXK3kPNXmDfTkvV8h5mS3jtrFH70rAdPiN2nETWEvoOysWbe4nMWcBFkfWLNB312DdF1iD/ZjVeAJxd/epuK3G3T3w4u6uxDM9CQ6DwxDDibsbGnftaFd3tTLJfz6PIIe+VXWrqgFENYYoLXw2B5RicvznR8taVeh5LfqHqUC8rOWltWw9EDKJ0cwfhOMzUXn1AiGtyzOCfwBRlQnYMFWYZzYweWoDwEaJrE++4105Dk+XkZKTuAmELGJybEIxaUBnJgaf1WFDyXSyGYTMdBIcdiR7HlOiJsA4iawtqG63cFb9fkT/x+VH6Y8JPTJMlnnI1hLJMeuOZdGPxjRAlGYvmUV/GSROW2GiWNbb37iZBFi3+QdYdLoKDApGttx/kSQpENKdydMA2ZrqZURWBVyphLAXVFwsLGAaMmW8IUQsqxiuxrnQsPBAfbZsEZFRSJZr9KdiBZplsfq4hhiqJCtmNCOJBSFtfMgHfJJqx3J9dxVZlrj4hCC7DlXWxO0J4QEmLOsthqkKQv5hSjQFIevXKMiaukMuOCMakumhN1Oj3gyxLOc5okuObeeu3TatqixcUmTythT8KE4ozkR0AiGxyk0TXB5MVAjwY30YSWdcu3Zjz0jtoRreEWtGi2V9WkVUt6clpvtmJFq1ucoM2OMbYbeI0uFeZVkdmCKdcDegPhMwE8sqyUgq4tq1N/nAlTXS/PvdRXywkvbB/iTOosFVXNQB2J4o+pffzXFWlvUvU2YQPmvCynGSqizCaQfq407pbERWly/EbSyOOwiHuEx1W/agw+YjtjRxY+uo9O7qp0dWhWNkNuMZiEM3IYu4iy5lz9iKbgiGZLGvxI+WJTD8OCT4xxG28HmNSIYTSeID+51Jet8ZqksW6w1A5XiJrJNrGM0p6kleMxl91E6GZHUp7Cq2ZT99Bs6eUw7z1vMXLsIljpN0HyqxgsoqFQNCesnJastk6ABC+j9/YHG/q6MhWWyFi7R2yvCDXfEKYd4SkBKWBdnSmuxv1x8KLItNJHI/ISvHidGEgJDpz38EOHE0NSbL2fM76RGLBMjdeR6FeXRS5+QB5IfaJX/vXpwVXFZVQMTqlbUV5z1SVs9GhmSxz92lh8x+AiArPUAmzNuDDwK0yrBJ/9bjRyZlBwrZp5gaXRfj7sJQfbJw22vxcyulpgBiujFZv7pLuzMcdxkADkRRYT7Ntvs4gHl/YppJjOtyqlnatwUIGMdU6Q+IZbSsATKyrvhSZZbPEkBMLW9I1lW+epCmxGwAOBwkDfNW27UzAHDIToS0QkeZqqzeTO85bOeEZKn1emqg2/aLOs1pJmAGDDEiix0tRIQle2g+ACRfFxVSFi4lkg9BCQEc0QD86VeHyJrfAk8eypOytjKSxgPoz9YURExebUTWZ+5/ELZs8XxIzL2AwrwlkDthBoCz/lQ4cyvcxSGymGh6NliPrCYors1/1VIGCYNG65f19oduJoLE/byWrLAUQYvLHs7HMsg/R9as7p8zx8haBohTOmTNFxafUwS1Z8WeIGHzIG8nnbJkpmDWpD3Ak+cZ97IhE8pHMsiNt5Fp0mOvA2QRQat5Y0rWGPUiaxYVyzADq3fqqkvWDQ+6XxyQADwHzyVmpj1RFZd0jY9jkLUzkZ5Z/PQXo6gzVa+sIbjb2aMCJWspI6grXx6UbAM0bf+dVb6xZlmr3GVaMP5ngefMkeAUe1LA6bws4LmZRNf2333jLHMy9MoqMYAs4geqNcYa3xKewVkMMxhkmdK8Q/1yFTXJ+sv9D5kmzLld8JT82zcP3XleAx/I5Ewkrh+8R1eJ6zTLohsHMEubrHJjhLG9If1R5Vm89L8rjVVlFf0D9UuFBcT1XBBxOAolQrRJw0gqttUtayMgZmuRNWRjD2FS6EsEz8WgxvrqXiqynFE6RCRGAuYMSoSICXMdJms6IG6pxqyu/cYJL1WT+tAd5yWgSqtmfRRl/VZYVhYXcAcQRxLlN2m+d5isBkB1AAfS/emKXk0GCYNcy5n15RKcVw5oYEw/BVldlrvKj7qugZBd4Zy8rJUOk9XJTIzPGucQXZZ6vQYMA8yAfgp92H9AC4PmG5LFhe8CAXlJpjcha3RLYopd4iRxNss1aFKvf2xzNLoxr+sv2wltXL0laKC5lxFZVu4gCLhrfyOy+oo2FkhZQgWlFvRujuv7WRUZzZUZoIEWVY3ICrj0P5C1ZgkOIrQsTONO/cei01ibydCnO6jTup+BY+ifDAJO2N6IrK7r1I/hRqLNOHsqGn7LznDK3jqp/mxt0C3LnoFibbI/90Zk4VjejJJVkxFsiEUX5fpMjpJNYluAMjMbk6WDvCxryiVA7FQoHSq9LlkdKFmzGUk9s9bP1rcBqjik1KNkFVEoSi+YAZEfJF+U/vK6ZPXWIYt1bKl9jNO1XK2l8gdyal/qumPC1x08QhRxiQswvfbrTlf0X+A/PbLYLLXQhpnvXfOfY0BSk7pIT5C5SAcG34On5N65fz8763mplWKVu0i/5bBsiPIazCNlaZxp12fq1Ol4aip1te5KtGg8aFcBng+eqbp5LiAlxTP+MvCYj5xPM1G4fejsKFl1UEPLrzMla7rGDs8wbc3jCsuIfldVqayPaVlcyj7gObv7fKA1Lc1qz9yZ+9TWdhvd/Pu2mKNk4R2rJWsoWYOZLH2IXKpOKWkLZxrRVp5Arn6cD3sa3BP87S/bytef3n0u7rbTbeWvHCCLXBakZG1i8rQjng91nAaBiEUSWe/IDCy2867MaP3Itu0wPOFecCA5sNjiKFl4t3S4blnTKdkaGAWYk/PFsn79iRqF2SMu8q4ik9AoLM7/ADzhwZwAKsIvv+qgTilu/q0mZXVTOlHoYu3bmWmkjihutdoglnWjENVRDkoGgDP8yqRoNfKmGQD2pXCaJxYll+iW1R0vHJOyZjEFZqoX+5rePPMWyXrrA1diVhHFn7fs07Y06dLtzlYAEEalxEI3HDPdwTO+iYyUtUD7usQYppW+UwGxWrwYQlRZXCB/2i4F26kbkC0+HyDrQiJxDr+46pC5YVkzskLLasBoiElOi75MK0sB0UQk63sPYq8vHcB8Yo7MCwS20LMAF69LU+If7p85RFY9FGQrGpBVlX41UZ1agOiIZRX5xo24EWZB1hHh3F4U0MITAJKJW6L7XIfI+kda6/CyemqXVc4PhOAZhA7LVbGsyi4SF7bruXBx+3nJrQbthzwdikle0nT7xLgsOpfFpOKRsjZZXn56rzy05U5IlnQ7yxK3bRfci5CEdhzm7ZF+cCCQoze0CiirG5odvBoMHnsDskbHoEk1Lh1WuVCJ8EGQXfWtnYwzkC4Z5Lt9U0T6oLTWJwvtnfUYijbkDcpqoP3J8kUXLR+hrLc++JZYB9lnoUM73pY8fVzaCvR0eV/avTTrk+VNdFgIWQ2ZAlfM2v8toh+11vR/Mg+WNekQEJu39B7uAzNePqIfraF++mTFSn60pKxOTIHVIKQlbjxorznqCmW9O3KCZF6ftdPGEa6oMO+5r1WoOCW6fFVAWVdaodRtTBa+HE6uyFgfbXEL36VLC2UVmfOdeACdH0+sIcu+O3DzXnCmRaV68EJHooOeumEiMyhrkGSiXXOApsbDehSyKiq+nBlx8LTNpB3Otv92FKfycqY36NmD7yhcM/MxKMsJr0XU4KvNlj5aGmm++BRiWeiqw21LD8J1uXqYz5C89vtWQV6h6yu4df9/OWZQVudWqNPqxQcjTSlxI/m6AnkMuXPh6FBpIS402Kp8DMvokTUKJXyjsobjnObEP1nE4rxKSVhNNAr7pRD+VQVcwX9VwSp6f0ibrOqoB2NUls9Y6W14NsAmfeH9ZEkkiz+HbiZH4unx5VuKm+kwUWvirs8My5qGF5IbP5fVUu0g4t79Y5lj2ZxJ1eNV5MX0MHsvRB9V0ItoZIS4Ya5kIDawCrtQSqx4+Ik44fjTVgJKJvTEsjBERFVcQlpaQl56EoUH90hKSyqK75MltAWgD/cMlgdSpe2AKW8VQVxgmURiGyadCOZ8X4RnFG0WetcBc/pe7w6XmJjQndUSFISVKve8yf/EuIWvfCI457kMl1t9kLqEqca4Rk8Ib6A3C8a6mnIihBtkhrMIaEFpbeBazMbGwfGJ8b8iJZlQYQEjC4cuKxE7U7uwpogm79mILLiqlR3vdi9EsY0JzgWg9gpL/dAPpjpQiHVhJuqwfxzeozd1xSg7xk4Nd/JeirYby5wdLaA+9h5Arr62WeHZ7oUASxMwR/sXNqKOoVe6YjvFq9/TxA81hMvqUbTVgkdmSD8gUSVFVVJCQkKqTVEKSEmn4KgHpIRZCc0dIEBHrFP6BP+FDg5T3FydHvY/QCmOAwsJ7CNEhERWj2evv5u3w8KFC/2BJqX1o0/A95mgHPJUibBl6QHnCQs/mpiYmHq7BvS3oDbLoJUmiUdvpkjIi0upcnPx7BM2qObh2TdXTLJNvE1Ci4TAsqwNIwF0Fn3EtdalKoxEUDnbAbU5MWd5odMMlBo1NHQxxurIwGmET8DVSJJEL7QVtaW55ouo6zEnMjHxMzLyMzFpMPPJ2U2eq6iNEV7aq7HmHJcS4j3XHV2UPxXXyPiBVSQFVFdObW8F2iRII5iyXjgxZmYXDm13c9PrCGxHwXbsmIqEeErNFT5+bFo1knm5FBVQwlZLWwBrY6C0vTSAGDCx1d/HGt+xcgdiA4gE33vmlJmZ+OLdR5Uwbc6SGZ3IA8jN3ctiJuaXE3u2Mp+EpDLc723yXPPwHQvPlGwrJi6B1G6352ccamCRtaWZm+v06dN73eIKrQr8SDriXEQcGlop8orVcp8I2aVrJwQ7jFoZ1G4fzoABU0hEUlxSVVpCW9EgmSgjEkW4xOVBOsS5ZBlH3LUMsquTVCbNnZ9MtCGfFvznVp7ENS+RcSRe+KGhp/eJNHNY9JSYgNTICCxAO3RIAAAAwDCof+tXuJuBCCBLlixZsmQhS5YsWbJkIUuWLFmyZCFLVpfFbxRscYYNkyG5AAAAAElFTkSuQmCC)"
      ],
      "metadata": {
        "id": "D3pibhj5iJd_"
      }
    },
    {
      "cell_type": "markdown",
      "source": [
        "**Project Overview:**\n",
        "\n",
        "This project aims to study the sentiment and text analysis of DBS Bank by performing n-gram on a total of 93 consumer reviews from Jul 2019 to Nov 2023 which are extracted from *Trustpilot* <br> that hosts reviews of businesses worldwide.\n",
        "\n",
        "```\n",
        "Author: Aiman Hakimi (153153)\n",
        "```\n"
      ],
      "metadata": {
        "id": "5-TuJNm7pZR0"
      }
    },
    {
      "cell_type": "markdown",
      "source": [
        "####**Import Libraries**"
      ],
      "metadata": {
        "id": "KOqOzWdprajS"
      }
    },
    {
      "cell_type": "code",
      "source": [
        "%config Completer.use_jedi=False\n",
        "\n",
        "import numpy as np\n",
        "import pandas as pd\n",
        "import seaborn as sns\n",
        "import matplotlib.pyplot as plt\n",
        "\n",
        "from matplotlib import rcParams # stores various configuration settings for matplotlib plots\n",
        "\n",
        "# Natural Language Processing Packages\n",
        "import nltk\n",
        "from nltk import word_tokenize\n",
        "from collections import Counter\n",
        "from wordcloud import WordCloud\n",
        "from sklearn.feature_extraction.text import CountVectorizer\n",
        "from sklearn.feature_extraction.text import TfidfVectorizer\n",
        "\n",
        "import warnings\n",
        "warnings.filterwarnings(\"ignore\")"
      ],
      "metadata": {
        "id": "VU55EWjAsRIj"
      },
      "execution_count": 3,
      "outputs": []
    },
    {
      "cell_type": "markdown",
      "source": [
        "####**Load and Read The Sample Dataset**"
      ],
      "metadata": {
        "id": "ozU4Sl4b183A"
      }
    },
    {
      "cell_type": "code",
      "source": [
        "# The dataset uses '?' to represent missing values as some reviews-\n",
        "# may not appear due to customer's privacy settings.\n",
        "df = pd.read_csv('risk_factors.csv', na_values='?')"
      ],
      "metadata": {
        "id": "m29fpSXK2OXU"
      },
      "execution_count": null,
      "outputs": []
    }
  ]
}